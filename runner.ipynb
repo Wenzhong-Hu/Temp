{
 "cells": [
  {
   "cell_type": "code",
   "execution_count": 1,
   "metadata": {},
   "outputs": [],
   "source": [
    "import torch\n",
    "import layout_data.Models.UNet as LDMU"
   ]
  },
  {
   "cell_type": "code",
   "execution_count": 2,
   "metadata": {},
   "outputs": [],
   "source": [
    "# model = LDMU.UNet(classes=1, input_channels=1)\n",
    "# print(model)\n",
    "# x = torch.randn(1, 1, 200, 200)\n",
    "# with torch.no_grad():\n",
    "#     final = model(x)\n",
    "#     print(final.shape)"
   ]
  },
  {
   "cell_type": "code",
   "execution_count": 3,
   "metadata": {},
   "outputs": [],
   "source": [
    "#Makes importing easier. Import the zip file, then unzip it through this command. Need to change directory to personalize.\n",
    "\n",
    "#import zipfile\n",
    "#with zipfile.ZipFile(\"/home/pknauss/private/Phys 139 Final Project/hsl-tfp/raw_data/si_component.zip\",\"r\") as zip_ref:\n",
    "#    zip_ref.extractall(\"/home/pknauss/private/Phys 139 Final Project/hsl-tfp/raw_data/\")"
   ]
  },
  {
   "cell_type": "code",
   "execution_count": 4,
   "metadata": {
    "scrolled": false
   },
   "outputs": [
    {
     "name": "stderr",
     "output_type": "stream",
     "text": [
      "/home/pknauss/private/Phys 139 Final Project/hsl-tfp/layout_data/utils/initialize.py:9: UserWarning: nn.init.kaiming_normal is now deprecated in favor of nn.init.kaiming_normal_.\n",
      "  nn.init.kaiming_normal(module.weight)\n",
      "/home/pknauss/.local/lib/python3.9/site-packages/pytorch_lightning/trainer/connectors/accelerator_connector.py:478: LightningDeprecationWarning: Setting `Trainer(gpus=[0])` is deprecated in v1.7 and will be removed in v2.0. Please use `Trainer(accelerator='gpu', devices=[0])` instead.\n",
      "  rank_zero_deprecation(\n",
      "GPU available: True (cuda), used: True\n",
      "TPU available: False, using: 0 TPU cores\n",
      "IPU available: False, using: 0 IPUs\n",
      "HPU available: False, using: 0 HPUs\n",
      "`Trainer(val_check_interval=1.0)` was configured so validation will run at the end of the training epoch..\n"
     ]
    },
    {
     "name": "stdout",
     "output_type": "stream",
     "text": [
      "Namespace(config=False, max_epochs=30, resume_from_checkpoint=None, seed=34, gpus=0, use_16bit=False, val_check_interval=1.0, profiler=False, test_args=False, model_name='fpn', load_name='F', data_root='/home/pknauss/private/Phys 139 Final Project/hsl-tfp/raw_data/complex_component/FDM', train_list='/home/pknauss/private/Phys 139 Final Project/hsl-tfp/raw_data/train.txt', val_list='/home/pknauss/private/Phys 139 Final Project/hsl-tfp/raw_data/val.txt', test_list='/home/pknauss/private/Phys 139 Final Project/hsl-tfp/raw_data/test.txt', train_dir='train', val_dir='train', test_dir='train', input_size=200, mean_layout=0.0, std_layout=10000.0, mean_heat=0, std_heat=1, max_iters=10000, lr=0.001, batch_size=1, num_workers=4, nx=200, length=0.1, u_D=298.0, bcs=[[[0.045, 0.0], [0.055, 0.0]]], f='/home/pknauss/.local/share/jupyter/runtime/kernel-577b201f-1abd-43a9-af06-b9b59102a208.json')\n",
      "\n"
     ]
    },
    {
     "name": "stderr",
     "output_type": "stream",
     "text": [
      "LOCAL_RANK: 0 - CUDA_VISIBLE_DEVICES: [0]\n",
      "\n",
      "  | Name  | Type         | Params\n",
      "---------------------------------------\n",
      "0 | model | UNet         | 22.0 M\n",
      "1 | loss  | Jacobi_layer | 0     \n",
      "---------------------------------------\n",
      "22.0 M    Trainable params\n",
      "0         Non-trainable params\n",
      "22.0 M    Total params\n",
      "87.814    Total estimated model params size (MB)\n"
     ]
    },
    {
     "data": {
      "application/vnd.jupyter.widget-view+json": {
       "model_id": "",
       "version_major": 2,
       "version_minor": 0
      },
      "text/plain": [
       "Sanity Checking: 0it [00:00, ?it/s]"
      ]
     },
     "metadata": {},
     "output_type": "display_data"
    },
    {
     "data": {
      "application/vnd.jupyter.widget-view+json": {
       "model_id": "518a95b23f6b45d58aca99b825e9ebdb",
       "version_major": 2,
       "version_minor": 0
      },
      "text/plain": [
       "Training: 0it [00:00, ?it/s]"
      ]
     },
     "metadata": {},
     "output_type": "display_data"
    },
    {
     "name": "stderr",
     "output_type": "stream",
     "text": [
      "/home/pknauss/.local/lib/python3.9/site-packages/pytorch_lightning/trainer/call.py:48: UserWarning: Detected KeyboardInterrupt, attempting graceful shutdown...\n",
      "  rank_zero_warn(\"Detected KeyboardInterrupt, attempting graceful shutdown...\")\n"
     ]
    }
   ],
   "source": [
    "#Used to initialize the training. Must change config.yml to personal directories.\n",
    "import os\n",
    "\n",
    "from layout_data.utils.options import parses_ul\n",
    "from test_and_train import main\n",
    "root_dir = os.path.abspath(\"\")\n",
    "\n",
    "config_path = os.path.join(root_dir, 'test_and_train/config.yml')\n",
    "hparams = parses_ul(config_path)\n",
    "main(hparams)"
   ]
  },
  {
   "cell_type": "code",
   "execution_count": null,
   "metadata": {},
   "outputs": [],
   "source": []
  }
 ],
 "metadata": {
  "kernelspec": {
   "display_name": "Python 3 (ipykernel)",
   "language": "python",
   "name": "python3"
  },
  "language_info": {
   "codemirror_mode": {
    "name": "ipython",
    "version": 3
   },
   "file_extension": ".py",
   "mimetype": "text/x-python",
   "name": "python",
   "nbconvert_exporter": "python",
   "pygments_lexer": "ipython3",
   "version": "3.9.5"
  }
 },
 "nbformat": 4,
 "nbformat_minor": 2
}
