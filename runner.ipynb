{
 "cells": [
  {
   "cell_type": "code",
   "execution_count": 1,
   "metadata": {},
   "outputs": [],
   "source": [
    "import torch\n",
    "import layout_data.Models.UNet as LDMU"
   ]
  },
  {
   "cell_type": "code",
   "execution_count": 2,
   "metadata": {},
   "outputs": [
    {
     "name": "stderr",
     "output_type": "stream",
     "text": [
      "/home/pknauss/private/Phys 139 Final Project/hsl-tfp/layout_data/utils/initialize.py:9: UserWarning: nn.init.kaiming_normal is now deprecated in favor of nn.init.kaiming_normal_.\n",
      "  nn.init.kaiming_normal(module.weight)\n"
     ]
    },
    {
     "name": "stdout",
     "output_type": "stream",
     "text": [
      "UNet(\n",
      "  (enc1): _EncoderBlock(\n",
      "    (encode): Sequential(\n",
      "      (0): Conv2d(1, 64, kernel_size=(3, 3), stride=(1, 1), padding=(1, 1), padding_mode=reflect)\n",
      "      (1): GroupNorm(32, 64, eps=1e-05, affine=True)\n",
      "      (2): GELU(approximate='none')\n",
      "      (3): Conv2d(64, 64, kernel_size=(3, 3), stride=(1, 1), padding=(1, 1), padding_mode=reflect)\n",
      "      (4): GroupNorm(32, 64, eps=1e-05, affine=True)\n",
      "      (5): GELU(approximate='none')\n",
      "    )\n",
      "  )\n",
      "  (enc2): _EncoderBlock(\n",
      "    (encode): Sequential(\n",
      "      (0): Conv2d(64, 128, kernel_size=(3, 3), stride=(1, 1), padding=(1, 1), padding_mode=reflect)\n",
      "      (1): GroupNorm(32, 128, eps=1e-05, affine=True)\n",
      "      (2): GELU(approximate='none')\n",
      "      (3): Conv2d(128, 128, kernel_size=(3, 3), stride=(1, 1), padding=(1, 1), padding_mode=reflect)\n",
      "      (4): GroupNorm(32, 128, eps=1e-05, affine=True)\n",
      "      (5): GELU(approximate='none')\n",
      "    )\n",
      "    (pool): MaxPool2d(kernel_size=2, stride=2, padding=0, dilation=1, ceil_mode=False)\n",
      "  )\n",
      "  (enc3): _EncoderBlock(\n",
      "    (encode): Sequential(\n",
      "      (0): Conv2d(128, 256, kernel_size=(3, 3), stride=(1, 1), padding=(1, 1), padding_mode=reflect)\n",
      "      (1): GroupNorm(32, 256, eps=1e-05, affine=True)\n",
      "      (2): GELU(approximate='none')\n",
      "      (3): Conv2d(256, 256, kernel_size=(3, 3), stride=(1, 1), padding=(1, 1), padding_mode=reflect)\n",
      "      (4): GroupNorm(32, 256, eps=1e-05, affine=True)\n",
      "      (5): GELU(approximate='none')\n",
      "    )\n",
      "    (pool): MaxPool2d(kernel_size=2, stride=2, padding=0, dilation=1, ceil_mode=False)\n",
      "  )\n",
      "  (enc4): _EncoderBlock(\n",
      "    (encode): Sequential(\n",
      "      (0): Conv2d(256, 512, kernel_size=(3, 3), stride=(1, 1), padding=(1, 1), padding_mode=reflect)\n",
      "      (1): GroupNorm(32, 512, eps=1e-05, affine=True)\n",
      "      (2): GELU(approximate='none')\n",
      "      (3): Conv2d(512, 512, kernel_size=(3, 3), stride=(1, 1), padding=(1, 1), padding_mode=reflect)\n",
      "      (4): GroupNorm(32, 512, eps=1e-05, affine=True)\n",
      "      (5): GELU(approximate='none')\n",
      "    )\n",
      "    (pool): MaxPool2d(kernel_size=2, stride=2, padding=0, dilation=1, ceil_mode=False)\n",
      "  )\n",
      "  (polling): AvgPool2d(kernel_size=2, stride=2, padding=0)\n",
      "  (center): _DecoderBlock(\n",
      "    (decode): Sequential(\n",
      "      (0): Conv2d(512, 1024, kernel_size=(3, 3), stride=(1, 1), padding=(1, 1), padding_mode=reflect)\n",
      "      (1): GroupNorm(32, 1024, eps=1e-05, affine=True)\n",
      "      (2): GELU(approximate='none')\n",
      "      (3): Conv2d(1024, 512, kernel_size=(3, 3), stride=(1, 1), padding=(1, 1), padding_mode=reflect)\n",
      "      (4): GroupNorm(32, 512, eps=1e-05, affine=True)\n",
      "      (5): GELU(approximate='none')\n",
      "    )\n",
      "  )\n",
      "  (dec4): _DecoderBlock(\n",
      "    (decode): Sequential(\n",
      "      (0): Conv2d(1024, 512, kernel_size=(3, 3), stride=(1, 1), padding=(1, 1), padding_mode=reflect)\n",
      "      (1): GroupNorm(32, 512, eps=1e-05, affine=True)\n",
      "      (2): GELU(approximate='none')\n",
      "      (3): Conv2d(512, 256, kernel_size=(3, 3), stride=(1, 1), padding=(1, 1), padding_mode=reflect)\n",
      "      (4): GroupNorm(32, 256, eps=1e-05, affine=True)\n",
      "      (5): GELU(approximate='none')\n",
      "    )\n",
      "  )\n",
      "  (dec3): _DecoderBlock(\n",
      "    (decode): Sequential(\n",
      "      (0): Conv2d(512, 256, kernel_size=(3, 3), stride=(1, 1), padding=(1, 1), padding_mode=reflect)\n",
      "      (1): GroupNorm(32, 256, eps=1e-05, affine=True)\n",
      "      (2): GELU(approximate='none')\n",
      "      (3): Conv2d(256, 128, kernel_size=(3, 3), stride=(1, 1), padding=(1, 1), padding_mode=reflect)\n",
      "      (4): GroupNorm(32, 128, eps=1e-05, affine=True)\n",
      "      (5): GELU(approximate='none')\n",
      "    )\n",
      "  )\n",
      "  (dec2): _DecoderBlock(\n",
      "    (decode): Sequential(\n",
      "      (0): Conv2d(256, 128, kernel_size=(3, 3), stride=(1, 1), padding=(1, 1), padding_mode=reflect)\n",
      "      (1): GroupNorm(32, 128, eps=1e-05, affine=True)\n",
      "      (2): GELU(approximate='none')\n",
      "      (3): Conv2d(128, 64, kernel_size=(3, 3), stride=(1, 1), padding=(1, 1), padding_mode=reflect)\n",
      "      (4): GroupNorm(32, 64, eps=1e-05, affine=True)\n",
      "      (5): GELU(approximate='none')\n",
      "    )\n",
      "  )\n",
      "  (dec1): Sequential(\n",
      "    (0): Conv2d(128, 64, kernel_size=(3, 3), stride=(1, 1), padding=(1, 1), padding_mode=reflect)\n",
      "    (1): GroupNorm(32, 64, eps=1e-05, affine=True)\n",
      "    (2): GELU(approximate='none')\n",
      "    (3): Conv2d(64, 64, kernel_size=(1, 1), stride=(1, 1))\n",
      "    (4): GroupNorm(32, 64, eps=1e-05, affine=True)\n",
      "    (5): GELU(approximate='none')\n",
      "  )\n",
      "  (final): Conv2d(64, 1, kernel_size=(1, 1), stride=(1, 1))\n",
      ")\n",
      "torch.Size([1, 1, 200, 200])\n"
     ]
    }
   ],
   "source": [
    "model = LDMU.UNet(classes=1, input_channels=1)\n",
    "print(model)\n",
    "x = torch.randn(1, 1, 200, 200)\n",
    "with torch.no_grad():\n",
    "    final = model(x)\n",
    "    print(final.shape)"
   ]
  },
  {
   "cell_type": "code",
   "execution_count": 8,
   "metadata": {},
   "outputs": [
    {
     "name": "stderr",
     "output_type": "stream",
     "text": [
      "usage: ipykernel_launcher.py [-h] [--config CONFIG] [--max_epochs MAX_EPOCHS]\n",
      "                             [--resume_from_checkpoint RESUME_FROM_CHECKPOINT]\n",
      "                             [--seed SEED] [--gpus GPUS]\n",
      "                             [--use_16bit USE_16BIT]\n",
      "                             [--val_check_interval VAL_CHECK_INTERVAL]\n",
      "                             [--profiler] [--test_args]\n",
      "                             [--model_name MODEL_NAME] [--load_name LOAD_NAME]\n",
      "                             --data_root DATA_ROOT --train_list TRAIN_LIST\n",
      "                             --val_list VAL_LIST --test_list TEST_LIST\n",
      "                             --train_dir TRAIN_DIR --val_dir VAL_DIR\n",
      "                             --test_dir TEST_DIR [--input_size INPUT_SIZE]\n",
      "                             [--mean_layout MEAN_LAYOUT]\n",
      "                             [--std_layout STD_LAYOUT] [--mean_heat MEAN_HEAT]\n",
      "                             [--std_heat STD_HEAT] [--max_iters MAX_ITERS]\n",
      "                             [--lr LR] [--batch_size BATCH_SIZE]\n",
      "                             [--num_workers NUM_WORKERS] [--nx NX]\n",
      "                             [--length LENGTH] [--u_D U_D] [--bcs BCS]\n",
      "ipykernel_launcher.py: error: the following arguments are required: --data_root, --train_list, --val_list, --test_list, --train_dir, --val_dir, --test_dir\n"
     ]
    },
    {
     "ename": "SystemExit",
     "evalue": "2",
     "output_type": "error",
     "traceback": [
      "An exception has occurred, use %tb to see the full traceback.\n",
      "\u001b[0;31mSystemExit\u001b[0m\u001b[0;31m:\u001b[0m 2\n"
     ]
    }
   ],
   "source": [
    "#Used to initialize the training\n",
    "\n",
    "from layout_data.utils.options import parses_ul\n",
    "import os\n",
    "root_dir = os.path.abspath(\"\")\n",
    "\n",
    "config_path = os.path.join(root_dir, 'test_and_train/config_ul.yml')\n",
    "hparams = parses_ul(config_path)\n",
    "main(hparams)"
   ]
  },
  {
   "cell_type": "code",
   "execution_count": null,
   "metadata": {},
   "outputs": [],
   "source": []
  }
 ],
 "metadata": {
  "kernelspec": {
   "display_name": "Python 3 (ipykernel)",
   "language": "python",
   "name": "python3"
  },
  "language_info": {
   "codemirror_mode": {
    "name": "ipython",
    "version": 3
   },
   "file_extension": ".py",
   "mimetype": "text/x-python",
   "name": "python",
   "nbconvert_exporter": "python",
   "pygments_lexer": "ipython3",
   "version": "3.9.5"
  }
 },
 "nbformat": 4,
 "nbformat_minor": 2
}
