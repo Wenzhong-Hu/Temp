{
 "cells": [
  {
   "cell_type": "code",
   "execution_count": 1,
   "metadata": {},
   "outputs": [],
   "source": [
    "import torch\n",
    "import layout_data.Models.UNet as LDMU"
   ]
  },
  {
   "cell_type": "code",
   "execution_count": 2,
   "metadata": {},
   "outputs": [
    {
     "name": "stderr",
     "output_type": "stream",
     "text": [
      "/home/pknauss/private/Phys 139 Final Project/hsl-tfp/layout_data/utils/initialize.py:9: UserWarning: nn.init.kaiming_normal is now deprecated in favor of nn.init.kaiming_normal_.\n",
      "  nn.init.kaiming_normal(module.weight)\n"
     ]
    },
    {
     "name": "stdout",
     "output_type": "stream",
     "text": [
      "UNet(\n",
      "  (enc1): _EncoderBlock(\n",
      "    (encode): Sequential(\n",
      "      (0): Conv2d(1, 64, kernel_size=(3, 3), stride=(1, 1), padding=(1, 1), padding_mode=reflect)\n",
      "      (1): GroupNorm(32, 64, eps=1e-05, affine=True)\n",
      "      (2): GELU(approximate='none')\n",
      "      (3): Conv2d(64, 64, kernel_size=(3, 3), stride=(1, 1), padding=(1, 1), padding_mode=reflect)\n",
      "      (4): GroupNorm(32, 64, eps=1e-05, affine=True)\n",
      "      (5): GELU(approximate='none')\n",
      "    )\n",
      "  )\n",
      "  (enc2): _EncoderBlock(\n",
      "    (encode): Sequential(\n",
      "      (0): Conv2d(64, 128, kernel_size=(3, 3), stride=(1, 1), padding=(1, 1), padding_mode=reflect)\n",
      "      (1): GroupNorm(32, 128, eps=1e-05, affine=True)\n",
      "      (2): GELU(approximate='none')\n",
      "      (3): Conv2d(128, 128, kernel_size=(3, 3), stride=(1, 1), padding=(1, 1), padding_mode=reflect)\n",
      "      (4): GroupNorm(32, 128, eps=1e-05, affine=True)\n",
      "      (5): GELU(approximate='none')\n",
      "    )\n",
      "    (pool): MaxPool2d(kernel_size=2, stride=2, padding=0, dilation=1, ceil_mode=False)\n",
      "  )\n",
      "  (enc3): _EncoderBlock(\n",
      "    (encode): Sequential(\n",
      "      (0): Conv2d(128, 256, kernel_size=(3, 3), stride=(1, 1), padding=(1, 1), padding_mode=reflect)\n",
      "      (1): GroupNorm(32, 256, eps=1e-05, affine=True)\n",
      "      (2): GELU(approximate='none')\n",
      "      (3): Conv2d(256, 256, kernel_size=(3, 3), stride=(1, 1), padding=(1, 1), padding_mode=reflect)\n",
      "      (4): GroupNorm(32, 256, eps=1e-05, affine=True)\n",
      "      (5): GELU(approximate='none')\n",
      "    )\n",
      "    (pool): MaxPool2d(kernel_size=2, stride=2, padding=0, dilation=1, ceil_mode=False)\n",
      "  )\n",
      "  (enc4): _EncoderBlock(\n",
      "    (encode): Sequential(\n",
      "      (0): Conv2d(256, 512, kernel_size=(3, 3), stride=(1, 1), padding=(1, 1), padding_mode=reflect)\n",
      "      (1): GroupNorm(32, 512, eps=1e-05, affine=True)\n",
      "      (2): GELU(approximate='none')\n",
      "      (3): Conv2d(512, 512, kernel_size=(3, 3), stride=(1, 1), padding=(1, 1), padding_mode=reflect)\n",
      "      (4): GroupNorm(32, 512, eps=1e-05, affine=True)\n",
      "      (5): GELU(approximate='none')\n",
      "    )\n",
      "    (pool): MaxPool2d(kernel_size=2, stride=2, padding=0, dilation=1, ceil_mode=False)\n",
      "  )\n",
      "  (polling): AvgPool2d(kernel_size=2, stride=2, padding=0)\n",
      "  (center): _DecoderBlock(\n",
      "    (decode): Sequential(\n",
      "      (0): Conv2d(512, 1024, kernel_size=(3, 3), stride=(1, 1), padding=(1, 1), padding_mode=reflect)\n",
      "      (1): GroupNorm(32, 1024, eps=1e-05, affine=True)\n",
      "      (2): GELU(approximate='none')\n",
      "      (3): Conv2d(1024, 512, kernel_size=(3, 3), stride=(1, 1), padding=(1, 1), padding_mode=reflect)\n",
      "      (4): GroupNorm(32, 512, eps=1e-05, affine=True)\n",
      "      (5): GELU(approximate='none')\n",
      "    )\n",
      "  )\n",
      "  (dec4): _DecoderBlock(\n",
      "    (decode): Sequential(\n",
      "      (0): Conv2d(1024, 512, kernel_size=(3, 3), stride=(1, 1), padding=(1, 1), padding_mode=reflect)\n",
      "      (1): GroupNorm(32, 512, eps=1e-05, affine=True)\n",
      "      (2): GELU(approximate='none')\n",
      "      (3): Conv2d(512, 256, kernel_size=(3, 3), stride=(1, 1), padding=(1, 1), padding_mode=reflect)\n",
      "      (4): GroupNorm(32, 256, eps=1e-05, affine=True)\n",
      "      (5): GELU(approximate='none')\n",
      "    )\n",
      "  )\n",
      "  (dec3): _DecoderBlock(\n",
      "    (decode): Sequential(\n",
      "      (0): Conv2d(512, 256, kernel_size=(3, 3), stride=(1, 1), padding=(1, 1), padding_mode=reflect)\n",
      "      (1): GroupNorm(32, 256, eps=1e-05, affine=True)\n",
      "      (2): GELU(approximate='none')\n",
      "      (3): Conv2d(256, 128, kernel_size=(3, 3), stride=(1, 1), padding=(1, 1), padding_mode=reflect)\n",
      "      (4): GroupNorm(32, 128, eps=1e-05, affine=True)\n",
      "      (5): GELU(approximate='none')\n",
      "    )\n",
      "  )\n",
      "  (dec2): _DecoderBlock(\n",
      "    (decode): Sequential(\n",
      "      (0): Conv2d(256, 128, kernel_size=(3, 3), stride=(1, 1), padding=(1, 1), padding_mode=reflect)\n",
      "      (1): GroupNorm(32, 128, eps=1e-05, affine=True)\n",
      "      (2): GELU(approximate='none')\n",
      "      (3): Conv2d(128, 64, kernel_size=(3, 3), stride=(1, 1), padding=(1, 1), padding_mode=reflect)\n",
      "      (4): GroupNorm(32, 64, eps=1e-05, affine=True)\n",
      "      (5): GELU(approximate='none')\n",
      "    )\n",
      "  )\n",
      "  (dec1): Sequential(\n",
      "    (0): Conv2d(128, 64, kernel_size=(3, 3), stride=(1, 1), padding=(1, 1), padding_mode=reflect)\n",
      "    (1): GroupNorm(32, 64, eps=1e-05, affine=True)\n",
      "    (2): GELU(approximate='none')\n",
      "    (3): Conv2d(64, 64, kernel_size=(1, 1), stride=(1, 1))\n",
      "    (4): GroupNorm(32, 64, eps=1e-05, affine=True)\n",
      "    (5): GELU(approximate='none')\n",
      "  )\n",
      "  (final): Conv2d(64, 1, kernel_size=(1, 1), stride=(1, 1))\n",
      ")\n",
      "torch.Size([1, 1, 200, 200])\n"
     ]
    }
   ],
   "source": [
    "# model = LDMU.UNet(classes=1, input_channels=1)\n",
    "# print(model)\n",
    "# x = torch.randn(1, 1, 200, 200)\n",
    "# with torch.no_grad():\n",
    "#     final = model(x)\n",
    "#     print(final.shape)"
   ]
  },
  {
   "cell_type": "code",
   "execution_count": 1,
   "metadata": {},
   "outputs": [
    {
     "name": "stderr",
     "output_type": "stream",
     "text": [
      "usage: ipykernel_launcher.py [-h] [--config CONFIG] [--max_epochs MAX_EPOCHS]\n",
      "                             [--resume_from_checkpoint RESUME_FROM_CHECKPOINT]\n",
      "                             [--seed SEED] [--gpus GPUS]\n",
      "                             [--use_16bit USE_16BIT]\n",
      "                             [--val_check_interval VAL_CHECK_INTERVAL]\n",
      "                             [--profiler] [--test_args]\n",
      "                             [--model_name MODEL_NAME] [--load_name LOAD_NAME]\n",
      "                             --data_root DATA_ROOT --train_list TRAIN_LIST\n",
      "                             --val_list VAL_LIST --test_list TEST_LIST\n",
      "                             --train_dir TRAIN_DIR --val_dir VAL_DIR\n",
      "                             --test_dir TEST_DIR [--input_size INPUT_SIZE]\n",
      "                             [--mean_layout MEAN_LAYOUT]\n",
      "                             [--std_layout STD_LAYOUT] [--mean_heat MEAN_HEAT]\n",
      "                             [--std_heat STD_HEAT] [--max_iters MAX_ITERS]\n",
      "                             [--lr LR] [--batch_size BATCH_SIZE]\n",
      "                             [--num_workers NUM_WORKERS] [--nx NX]\n",
      "                             [--length LENGTH] [--u_D U_D] [--bcs BCS]\n",
      "ipykernel_launcher.py: error: unrecognized arguments: --ip=127.0.0.1 --stdin=9013 --control=9011 --hb=9010 --Session.signature_scheme=\"hmac-sha256\" --Session.key=b\"e0e6a45f-d5df-4752-b7af-921c7b7f5e67\" --shell=9012 --transport=\"tcp\" --iopub=9014 --f=/Users/tsievert/Library/Jupyter/runtime/kernel-v2-33075ujnjO76kFwQY.json\n"
     ]
    },
    {
     "ename": "SystemExit",
     "evalue": "2",
     "output_type": "error",
     "traceback": [
      "An exception has occurred, use %tb to see the full traceback.\n",
      "\u001b[0;31mSystemExit\u001b[0m\u001b[0;31m:\u001b[0m 2\n"
     ]
    },
    {
     "name": "stderr",
     "output_type": "stream",
     "text": [
      "/Library/Frameworks/Python.framework/Versions/3.9/lib/python3.9/site-packages/IPython/core/interactiveshell.py:3377: UserWarning: To exit: use 'exit', 'quit', or Ctrl-D.\n",
      "  warn(\"To exit: use 'exit', 'quit', or Ctrl-D.\", stacklevel=1)\n"
     ]
    }
   ],
   "source": [
    "#Used to initialize the training\n",
    "import os\n",
    "\n",
    "from layout_data.utils.options import parses_ul\n",
    "from test_and_train import main\n",
    "root_dir = os.path.abspath(\"\")\n",
    "\n",
    "config_path = os.path.join(root_dir, 'test_and_train/config.yml')\n",
    "hparams = parses_ul(config_path)\n",
    "main(hparams)"
   ]
  },
  {
   "cell_type": "code",
   "execution_count": 2,
   "metadata": {},
   "outputs": [
    {
     "ename": "SystemExit",
     "evalue": "2",
     "output_type": "error",
     "traceback": [
      "\u001b[0;31m---------------------------------------------------------------------------\u001b[0m",
      "\u001b[0;31mSystemExit\u001b[0m                                Traceback (most recent call last)",
      "\u001b[1;32m/Users/tsievert/Files/Projects/hsl-tfp/runner.ipynb Cell 4\u001b[0m in \u001b[0;36m<cell line: 9>\u001b[0;34m()\u001b[0m\n\u001b[1;32m      <a href='vscode-notebook-cell:/Users/tsievert/Files/Projects/hsl-tfp/runner.ipynb#W3sZmlsZQ%3D%3D?line=5'>6</a>\u001b[0m root_dir \u001b[39m=\u001b[39m os\u001b[39m.\u001b[39mpath\u001b[39m.\u001b[39mabspath(\u001b[39m\"\u001b[39m\u001b[39m\"\u001b[39m)\n\u001b[1;32m      <a href='vscode-notebook-cell:/Users/tsievert/Files/Projects/hsl-tfp/runner.ipynb#W3sZmlsZQ%3D%3D?line=7'>8</a>\u001b[0m config_path \u001b[39m=\u001b[39m os\u001b[39m.\u001b[39mpath\u001b[39m.\u001b[39mjoin(root_dir, \u001b[39m'\u001b[39m\u001b[39mtest_and_train/config.yml\u001b[39m\u001b[39m'\u001b[39m)\n\u001b[0;32m----> <a href='vscode-notebook-cell:/Users/tsievert/Files/Projects/hsl-tfp/runner.ipynb#W3sZmlsZQ%3D%3D?line=8'>9</a>\u001b[0m hparams \u001b[39m=\u001b[39m parses_ul(config_path)\n\u001b[1;32m     <a href='vscode-notebook-cell:/Users/tsievert/Files/Projects/hsl-tfp/runner.ipynb#W3sZmlsZQ%3D%3D?line=9'>10</a>\u001b[0m main(hparams)\n",
      "File \u001b[0;32m~/Files/Projects/hsl-tfp/layout_data/utils/options.py:52\u001b[0m, in \u001b[0;36mparses_ul\u001b[0;34m(config_path)\u001b[0m\n\u001b[1;32m     49\u001b[0m parser\u001b[39m.\u001b[39madd_argument(\u001b[39m\"\u001b[39m\u001b[39m--u_D\u001b[39m\u001b[39m\"\u001b[39m, \u001b[39mtype\u001b[39m\u001b[39m=\u001b[39m\u001b[39mfloat\u001b[39m)\n\u001b[1;32m     50\u001b[0m parser\u001b[39m.\u001b[39madd_argument(\u001b[39m\"\u001b[39m\u001b[39m--bcs\u001b[39m\u001b[39m\"\u001b[39m, \u001b[39mtype\u001b[39m\u001b[39m=\u001b[39myaml\u001b[39m.\u001b[39msafe_load, action\u001b[39m=\u001b[39m\u001b[39m\"\u001b[39m\u001b[39mappend\u001b[39m\u001b[39m\"\u001b[39m, help\u001b[39m=\u001b[39m\u001b[39m\"\u001b[39m\u001b[39mDirichlet boundaries\u001b[39m\u001b[39m\"\u001b[39m, )\n\u001b[0;32m---> 52\u001b[0m args \u001b[39m=\u001b[39m parser\u001b[39m.\u001b[39;49mparse_args()\n\u001b[1;32m     53\u001b[0m \u001b[39mreturn\u001b[39;00m args\n",
      "File \u001b[0;32m/Library/Frameworks/Python.framework/Versions/3.9/lib/python3.9/site-packages/configargparse.py:476\u001b[0m, in \u001b[0;36mArgumentParser.parse_args\u001b[0;34m(self, args, namespace, config_file_contents, env_vars)\u001b[0m\n\u001b[1;32m    468\u001b[0m args, argv \u001b[39m=\u001b[39m \u001b[39mself\u001b[39m\u001b[39m.\u001b[39mparse_known_args(\n\u001b[1;32m    469\u001b[0m     args\u001b[39m=\u001b[39margs,\n\u001b[1;32m    470\u001b[0m     namespace\u001b[39m=\u001b[39mnamespace,\n\u001b[1;32m    471\u001b[0m     config_file_contents\u001b[39m=\u001b[39mconfig_file_contents,\n\u001b[1;32m    472\u001b[0m     env_vars\u001b[39m=\u001b[39menv_vars,\n\u001b[1;32m    473\u001b[0m     ignore_help_args\u001b[39m=\u001b[39m\u001b[39mFalse\u001b[39;00m)\n\u001b[1;32m    475\u001b[0m \u001b[39mif\u001b[39;00m argv:\n\u001b[0;32m--> 476\u001b[0m     \u001b[39mself\u001b[39;49m\u001b[39m.\u001b[39;49merror(\u001b[39m'\u001b[39;49m\u001b[39munrecognized arguments: \u001b[39;49m\u001b[39m%s\u001b[39;49;00m\u001b[39m'\u001b[39;49m \u001b[39m%\u001b[39;49m \u001b[39m'\u001b[39;49m\u001b[39m \u001b[39;49m\u001b[39m'\u001b[39;49m\u001b[39m.\u001b[39;49mjoin(argv))\n\u001b[1;32m    477\u001b[0m \u001b[39mreturn\u001b[39;00m args\n",
      "File \u001b[0;32m/Library/Frameworks/Python.framework/Versions/3.9/lib/python3.9/argparse.py:2575\u001b[0m, in \u001b[0;36mArgumentParser.error\u001b[0;34m(self, message)\u001b[0m\n\u001b[1;32m   2573\u001b[0m \u001b[39mself\u001b[39m\u001b[39m.\u001b[39mprint_usage(_sys\u001b[39m.\u001b[39mstderr)\n\u001b[1;32m   2574\u001b[0m args \u001b[39m=\u001b[39m {\u001b[39m'\u001b[39m\u001b[39mprog\u001b[39m\u001b[39m'\u001b[39m: \u001b[39mself\u001b[39m\u001b[39m.\u001b[39mprog, \u001b[39m'\u001b[39m\u001b[39mmessage\u001b[39m\u001b[39m'\u001b[39m: message}\n\u001b[0;32m-> 2575\u001b[0m \u001b[39mself\u001b[39;49m\u001b[39m.\u001b[39;49mexit(\u001b[39m2\u001b[39;49m, _(\u001b[39m'\u001b[39;49m\u001b[39m%(prog)s\u001b[39;49;00m\u001b[39m: error: \u001b[39;49m\u001b[39m%(message)s\u001b[39;49;00m\u001b[39m\\n\u001b[39;49;00m\u001b[39m'\u001b[39;49m) \u001b[39m%\u001b[39;49m args)\n",
      "File \u001b[0;32m/Library/Frameworks/Python.framework/Versions/3.9/lib/python3.9/argparse.py:2562\u001b[0m, in \u001b[0;36mArgumentParser.exit\u001b[0;34m(self, status, message)\u001b[0m\n\u001b[1;32m   2560\u001b[0m \u001b[39mif\u001b[39;00m message:\n\u001b[1;32m   2561\u001b[0m     \u001b[39mself\u001b[39m\u001b[39m.\u001b[39m_print_message(message, _sys\u001b[39m.\u001b[39mstderr)\n\u001b[0;32m-> 2562\u001b[0m _sys\u001b[39m.\u001b[39;49mexit(status)\n",
      "\u001b[0;31mSystemExit\u001b[0m: 2"
     ]
    }
   ],
   "source": [
    "%tb"
   ]
  },
  {
   "cell_type": "code",
   "execution_count": null,
   "metadata": {},
   "outputs": [],
   "source": []
  }
 ],
 "metadata": {
  "kernelspec": {
   "display_name": "Python 3 (ipykernel)",
   "language": "python",
   "name": "python3"
  },
  "language_info": {
   "codemirror_mode": {
    "name": "ipython",
    "version": 3
   },
   "file_extension": ".py",
   "mimetype": "text/x-python",
   "name": "python",
   "nbconvert_exporter": "python",
   "pygments_lexer": "ipython3",
   "version": "3.9.6"
  }
 },
 "nbformat": 4,
 "nbformat_minor": 2
}
