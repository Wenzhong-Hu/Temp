{
 "cells": [
  {
   "cell_type": "code",
   "execution_count": 1,
   "metadata": {},
   "outputs": [
    {
     "data": {
      "text/plain": [
       "True"
      ]
     },
     "execution_count": 1,
     "metadata": {},
     "output_type": "execute_result"
    }
   ],
   "source": [
    "import torch\n",
    "import layout_data.Models.UNet as LDMU\n",
    "torch.cuda.is_available()"
   ]
  },
  {
   "cell_type": "code",
   "execution_count": 2,
   "metadata": {},
   "outputs": [],
   "source": [
    "# model = LDMU.UNet(classes=1, input_channels=1)\n",
    "# print(model)\n",
    "# x = torch.randn(1, 1, 200, 200)\n",
    "# with torch.no_grad():\n",
    "#     final = model(x)\n",
    "#     print(final.shape)"
   ]
  },
  {
   "cell_type": "code",
   "execution_count": 3,
   "metadata": {},
   "outputs": [],
   "source": [
    "#Makes importing easier. Import the zip file, then unzip it through this command. Need to change directory to personalize.\n",
    "\n",
    "#import zipfile\n",
    "#with zipfile.ZipFile(\"/home/pknauss/private/Phys 139 Final Project/hsl-tfp/raw_data/simple_component.zip\",\"r\") as zip_ref:\n",
    "#    zip_ref.extractall(\"/home/pknauss/private/Phys 139 Final Project/hsl-tfp/raw_data/\")"
   ]
  },
  {
   "cell_type": "code",
   "execution_count": 4,
   "metadata": {
    "scrolled": false
   },
   "outputs": [],
   "source": [
    "#Used to initialize the training. Must change config.yml to personal directories.\n",
    "#import os\n",
    "\n",
    "#from layout_data.utils.options import parses_ul\n",
    "#from test_and_train.train_suplearn import trainsl\n",
    "#root_dir = os.path.abspath(\"\")\n",
    "\n",
    "#config_path = os.path.join(root_dir, 'test_and_train/config.yml')\n",
    "#hparams = parses_ul(config_path)\n",
    "#trainsl(hparams)"
   ]
  },
  {
   "cell_type": "code",
   "execution_count": 5,
   "metadata": {},
   "outputs": [
    {
     "name": "stderr",
     "output_type": "stream",
     "text": [
      "/home/pknauss/private/Phys 139 Final Project/hsl-tfp/layout_data/utils/initialize.py:9: UserWarning: nn.init.kaiming_normal is now deprecated in favor of nn.init.kaiming_normal_.\n",
      "  nn.init.kaiming_normal(module.weight)\n",
      "/home/pknauss/.local/lib/python3.9/site-packages/torch/nn/functional.py:718: UserWarning: Named tensors and all their associated APIs are an experimental feature and subject to change. Please do not use them for anything important until they are released as stable. (Triggered internally at  /pytorch/c10/core/TensorImpl.h:1156.)\n",
      "  return torch.max_pool2d(input, kernel_size, stride, padding, dilation, ceil_mode)\n"
     ]
    },
    {
     "name": "stdout",
     "output_type": "stream",
     "text": [
      "500\n",
      "1000\n",
      "--------------------\n",
      "Loss: 0.00055022089034901\n",
      "MAE: 9.029852481365204\n",
      "CMAE: 9.335537940025329\n",
      "Max AE: 11.181988006591796\n",
      "MT AE: 11.035569946289062\n"
     ]
    }
   ],
   "source": [
    "#Used for testing\n",
    "import os\n",
    "\n",
    "from layout_data.utils.options import parses_ul\n",
    "from test_and_train.test import test\n",
    "root_dir = os.path.abspath(\"\")\n",
    "\n",
    "config_path = os.path.join(root_dir, 'test_and_train/config.yml')\n",
    "hparams = parses_ul(config_path)\n",
    "test(hparams)"
   ]
  },
  {
   "cell_type": "code",
   "execution_count": null,
   "metadata": {},
   "outputs": [],
   "source": []
  }
 ],
 "metadata": {
  "kernelspec": {
   "display_name": "Python 3 (ipykernel)",
   "language": "python",
   "name": "python3"
  },
  "language_info": {
   "codemirror_mode": {
    "name": "ipython",
    "version": 3
   },
   "file_extension": ".py",
   "mimetype": "text/x-python",
   "name": "python",
   "nbconvert_exporter": "python",
   "pygments_lexer": "ipython3",
   "version": "3.9.5"
  }
 },
 "nbformat": 4,
 "nbformat_minor": 2
}
